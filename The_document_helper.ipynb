{
 "cells": [
  {
   "cell_type": "markdown",
   "metadata": {},
   "source": [
    "# _This Project contains 3 modules under the name \"The_document_helper\" namely :-\n",
    "\n",
    "\n",
    "# 1) _Module : CV Assistant.\n",
    "# 2) _Module : Pdf Merger.\n",
    "# 3) _Module : Pdf to text Converter."
   ]
  },
  {
   "cell_type": "markdown",
   "metadata": {},
   "source": [
    "# ........................................................................................................................"
   ]
  },
  {
   "cell_type": "markdown",
   "metadata": {},
   "source": [
    "# 1) Module : CV Assistant"
   ]
  },
  {
   "cell_type": "markdown",
   "metadata": {},
   "source": [
    "## _Description : Analysing pdf and identifying the maximum occuring keywords , then                                         using the keywords to check for curse words and giving sugestions to                                       replace them \n",
    "\n",
    "##                       : ( internet connectivity required )   \n",
    "\n",
    "##                       : IT  gives meaning and synonyms of the curse words ,suggestive words                                    for  replacing the curse words."
   ]
  },
  {
   "cell_type": "markdown",
   "metadata": {},
   "source": [
    "## _Usage : Can be used as an  invigilator to your CV OR RESUME ( checking for curse                                words and  identifying the frequency of keywords you used and then suggesting                      words against curse words )"
   ]
  },
  {
   "cell_type": "markdown",
   "metadata": {},
   "source": [
    "**_STEP  1     - using tkinter open dialog for selecting your resume or any other document _**"
   ]
  },
  {
   "cell_type": "code",
   "execution_count": 1,
   "metadata": {},
   "outputs": [
    {
     "name": "stdout",
     "output_type": "stream",
     "text": [
      "Success\n",
      "/home/arjun/13_april/project file and cv/updated cv/ARJUN RESUME CSe.pdf\n"
     ]
    }
   ],
   "source": [
    "import tkinter\n",
    "from tkinter import *\n",
    "from tkinter.filedialog import askopenfilename\n",
    "from tkinter.messagebox import showerror\n",
    "\n",
    "class MyFrame(Frame):\n",
    "    def __init__(self):\n",
    "        Frame.__init__(self)\n",
    "        self.master.title(\"PDF ANALYSIS FOR CURSE WORDS\")\n",
    "        self.master.rowconfigure(5, weight=1)\n",
    "        self.master.columnconfigure(5, weight=1)\n",
    "        self.grid(sticky=W+E+N+S)\n",
    "\n",
    "        self.button = Button(self, text=\"Choose  your pdf \", command=self.load_file, width=100)\n",
    "        self.button.grid(row=1, column=0, sticky=W)\n",
    "\n",
    "    def load_file(self):\n",
    "        fname = tkinter.filedialog.askopenfilename(filetypes=((\"Pdf files\", \"*.pdf\") \n",
    "                                          # ,(\"HTML files\", \"*.html;*.htm\"),\n",
    "                                           ,(\"All files\", \"*.*\") ))#used for multiple files selection\n",
    "        \n",
    "        \n",
    "        if fname:\n",
    "            try:\n",
    "                print(\"Success\")\n",
    "            except:                     # <- naked except is a bad idea\n",
    "                showerror(\"Open Source File\", \"Failed to read file\\n'%s'\" % fname)\n",
    "            return fname\n",
    "        \n",
    "a=MyFrame().load_file()\n",
    "print(a)"
   ]
  },
  {
   "cell_type": "markdown",
   "metadata": {},
   "source": [
    "**_STEP  2     - identifying frequency of keywords used  _**`"
   ]
  },
  {
   "cell_type": "code",
   "execution_count": 2,
   "metadata": {
    "scrolled": false
   },
   "outputs": [
    {
     "name": "stdout",
     "output_type": "stream",
     "text": [
      "[('.', 35), ('Title', 12), ('Description', 10), ('using', 5), ('http', 5), ('system', 4), ('online', 4), ('examination', 4), ('developed', 4), ('calling', 4), ('Verbose', 4), ('Python', 4), ('Paper', 4), ('Organization', 4), ('Guess', 4), ('Generator', 4), ('Duration', 4), ('Android', 4), ('application', 3), ('Word', 3), ('Lucknow', 3), ('//demo.mediatrenz.com/citystyle/', 3), ('-', 3), ('year', 2), ('work', 2), ('store', 2), ('shopping', 2), ('question', 2), ('probability', 2), ('previous', 2), ('press', 2), ('papers', 2), ('paper', 2), ('organization', 2), ('months', 2), ('messaging', 2), ('maximum', 2), ('knowledge', 2), ('generates', 2), ('free', 2), ('features', 2), ('facilities', 2), ('digipodium', 2), ('develope', 2), ('data', 2), ('cost', 2), ('chatting', 2), ('built', 2), ('best', 2), ('based', 2), ('automatically', 2), ('applications', 2), ('app', 2), ('analyses', 2), ('Used', 2), ('URL', 2), ('Technical', 2), ('System', 2), ('Software', 2), ('Real-time', 2), ('Questions', 2), ('Projects', 2), ('Platform', 2), ('Online', 2), ('MySQL', 2), ('Multiple', 2), ('MCQ', 2), ('Learned', 2), ('J2ee', 2), ('It', 2), ('Examination', 2), ('Engineer', 2), ('Data', 2), ('College', 2), ('Chatting', 2), ('Calling', 2), ('AMCAT', 2), ('3', 2), ('%', 2), ('ﬁQuiz', 1), ('ﬁAccording', 1), ('–––––..', 1), ('–––––', 1), ('ŒUtkarsh', 1), ('ŒIT', 1), ('working', 1), ('weeks', 1), ('websites', 1), ('website', 1), ('ven', 1), ('used', 1), ('um', 1), ('training', 1), ('tomcat', 1), ('thinking', 1), ('srivastavarjun23', 1), ('solutions', 1), ('servlets', 1), ('server', 1), ('science', 1), ('role', 1), ('relations', 1), ('quick', 1), ('quest', 1), ('python', 1), ('profiles', 1), ('profess', 1), ('proactive', 1), ('popular', 1), ('oriented', 1), ('offering', 1), ('month', 1), ('mining', 1), ('maxim', 1), ('like', 1), ('learner', 1), ('learned', 1), ('latest', 1), ('knowl', 1), ('jsp', 1), ('java', 1), ('ipython', 1), ('ional', 1), ('interpersonal', 1), ('information', 1), ('ide', 1), ('hereby', 1), ('growth', 1), ('grow', 1), ('good', 1), ('gmail', 1), ('gle', 1), ('gives', 1), ('giv', 1), ('gi', 1), ('following', 1), ('fetching', 1), ('excellence', 1), ('etc', 1), ('es', 1), ('employable', 1), ('edge', 1), ('ecommerce', 1), ('eWebGuru', 1), ('dynamic', 1), ('development', 1), ('develop', 1), ('details', 1), ('desktop', 1), ('declared', 1), ('days', 1), ('crawler', 1), ('correct', 1), ('communication', 1), ('com', 1), ('cloud', 1), ('cetpa', 1), ('ce', 1), ('cation', 1), ('business', 1), ('building', 1), ('avail', 1), ('attention', 1), ('appli', 1), ('android', 1), ('analyzing', 1), ('analytical', 1), ('analysis', 1), ('active', 1), ('achieve', 1), ('able', 1), ('ability', 1), ('YEAR', 1), ('XII', 1), ('X', 1), ('Working', 1), ('Wordpress', 1), ('Web', 1), ('UNIVERSITY', 1), ('Trophy', 1), ('Training', 1), ('To', 1), ('This', 1), ('Tel', 1), ('Studio', 1), ('Strengths', 1), ('Socialeﬂ', 1), ('Services', 1), ('Score', 1), ('Science', 1), ('STANDARD', 1), ('SRIVASTAVA', 1), ('Result', 1), ('Res', 1), ('Qualification', 1), ('Project', 1), ('Product', 1), ('Press', 1), ('Played', 1), ('Place', 1), ('Pillow', 1), ('Pandas', 1), ('PURSUING', 1), ('PERCENTAGE', 1), ('PASSING', 1), ('OF', 1), ('OBJECTIVE', 1), ('Noida', 1), ('Mobile', 1), ('Jupiter', 1), ('J2EE', 1), ('Internship', 1), ('InfoTech', 1), ('Industrial', 1), ('IT', 1), ('ISCE', 1), ('ISC', 1), ('ID', 1), ('I', 1), ('Goo', 1), ('GUI', 1), ('Fundamentals', 1), ('Firebase', 1), ('Fest', 1), ('Event', 1), ('Email', 1), ('Eclipse', 1), ('ENGINEERING', 1), ('Declaration', 1), ('Date', 1), ('DAS', 1), ('Coordinator', 1), ('Choice', 1), ('Choi', 1), ('CSE', 1), ('COLLEGE', 1), ('BOARD', 1), ('BANARASI', 1), ('BABU', 1), ('B.TECH', 1), ('Assistant', 1), ('Api', 1), ('Apache', 1), ('Also', 1), ('Advanced', 1), ('Achievements', 1), ('Academic', 1), ('ARJUN', 1), ('@', 1), ('83.42', 1), ('80.00', 1), ('4', 1), ('3.6', 1), ('3.0', 1), ('2018', 1), ('2017', 1), ('2014', 1), ('2010', 1), ('15', 1), ('1', 1), ('//www.brazilianvirginhumanhair.com/', 1), ('//demo3.mediatrenz.com/Thepariscloset/', 1), ('/', 1), ('+91-9598917733', 1), ('+91-8090958285', 1)]\n"
     ]
    }
   ],
   "source": [
    "import PyPDF2 \n",
    "import textract\n",
    "import nltk\n",
    "from nltk.tokenize import word_tokenize\n",
    "from nltk.corpus import stopwords\n",
    "#nltk.download('stopwords')\n",
    "\n",
    "pdfFileObj = open(a,'rb')\n",
    "#The pdfReader variable is a readable object that will be parsed\n",
    "pdfReader = PyPDF2.PdfFileReader(pdfFileObj)\n",
    "#discerning the number of pages will allow us to parse through all #the pages\n",
    "num_pages = pdfReader.numPages\n",
    "count = 0\n",
    "text = \"\"\n",
    "#The while loop will read each page\n",
    "while count < num_pages:\n",
    "    pageObj = pdfReader.getPage(count)\n",
    "    count +=1\n",
    "    text += pageObj.extractText()\n",
    "#This if statement exists to check if the above library returned #words. It's done because PyPDF2 cannot read scanned files.\n",
    "if text != \"\":\n",
    "   text = text\n",
    "#If the above returns as False, we run the OCR library textract to #convert scanned/image based PDF files into text\n",
    "else:\n",
    "   text = textract.process(fileurl, method='tesseract', language='eng')\n",
    "# Now we have a text variable which contains all the text derived #from our PDF file. Type print(text) to see what it contains. It #likely contains a lot of spaces, possibly junk such as '\\n' etc.\n",
    "# Now, we will clean our text variable, and return it as a list of keywords.\n",
    "\n",
    "#The word_tokenize() function will break our text phrases into #individual words\n",
    "tokens = word_tokenize(text)\n",
    "#we'll create a new list which contains punctuation we wish to clean\n",
    "punctuations = ['(',')',';',':','[',']',',']\n",
    "#We initialize the stopwords variable which is a list of words like #\"The\", \"I\", \"and\", etc. that don't hold much value as keywords\n",
    "stop_words = stopwords.words('english')\n",
    "#We create a list comprehension which only returns a list of words #that are NOT IN stop_words and NOT IN punctuations.\n",
    "keywords = [word for word in tokens if not word in stop_words and  not word in punctuations]\n",
    "\n",
    "frequency_list = {}\n",
    "for word in keywords:\n",
    "    if word not in frequency_list:\n",
    "        frequency_list[word] = 1\n",
    "    else:\n",
    "        frequency_list[word] += 1\n",
    "#print(frequency_list)\n",
    "print([(k,v) for v,k in sorted([(v,k) for k,v in frequency_list.items()],reverse=True)])\n"
   ]
  },
  {
   "cell_type": "markdown",
   "metadata": {},
   "source": [
    "**_STEP  2     - Performing Profanity Check on identified frequency keywords used  _**`"
   ]
  },
  {
   "cell_type": "code",
   "execution_count": 3,
   "metadata": {},
   "outputs": [
    {
     "name": "stderr",
     "output_type": "stream",
     "text": [
      "RequestsDependencyWarning: urllib3 (1.22) or chardet (2.3.0) doesn't match a supported version! [__init__.py:80]\n"
     ]
    },
    {
     "name": "stdout",
     "output_type": "stream",
     "text": [
      " Checking for Curse words , Please wait....\n",
      "\n"
     ]
    },
    {
     "data": {
      "application/vnd.jupyter.widget-view+json": {
       "model_id": "7b311a09aabc428499bded305e070276",
       "version_major": 2,
       "version_minor": 0
      },
      "text/html": [
       "<p>Failed to display Jupyter Widget of type <code>VBox</code>.</p>\n",
       "<p>\n",
       "  If you're reading this message in the Jupyter Notebook or JupyterLab Notebook, it may mean\n",
       "  that the widgets JavaScript is still loading. If this message persists, it\n",
       "  likely means that the widgets JavaScript library is either not installed or\n",
       "  not enabled. See the <a href=\"https://ipywidgets.readthedocs.io/en/stable/user_install.html\">Jupyter\n",
       "  Widgets Documentation</a> for setup instructions.\n",
       "</p>\n",
       "<p>\n",
       "  If you're reading this message in another frontend (for example, a static\n",
       "  rendering on GitHub or <a href=\"https://nbviewer.jupyter.org/\">NBViewer</a>),\n",
       "  it may mean that your frontend doesn't currently support widgets.\n",
       "</p>\n"
      ],
      "text/plain": [
       "VBox(children=(HTML(value=''), IntProgress(value=0, max=265)))"
      ]
     },
     "metadata": {},
     "output_type": "display_data"
    },
    {
     "name": "stdout",
     "output_type": "stream",
     "text": [
      "PASSING\n",
      " is a curse word \n",
      "Assistant\n",
      " is a curse word \n",
      "\n",
      " The document has 2 curse words and must be reconsidered for content \n"
     ]
    }
   ],
   "source": [
    "#import urllib.request\n",
    "import requests\n",
    "lis=[]\n",
    "\n",
    "#below is a function for progress bar\n",
    "def log_progress(sequence, every=None, size=None, name='Items'):\n",
    "    from ipywidgets import IntProgress, HTML, VBox\n",
    "    from IPython.display import display\n",
    "\n",
    "    is_iterator = False\n",
    "    if size is None:\n",
    "        try:\n",
    "            size = len(sequence)\n",
    "        except TypeError:\n",
    "            is_iterator = True\n",
    "    if size is not None:\n",
    "        if every is None:\n",
    "            if size <= 200:\n",
    "                every = 1\n",
    "            else:\n",
    "                every = int(size / 200)     # every 0.5%\n",
    "    else:\n",
    "        assert every is not None, 'sequence is iterator, set every'\n",
    "\n",
    "    if is_iterator:\n",
    "        progress = IntProgress(min=0, max=1, value=1)\n",
    "        progress.bar_style = 'info'\n",
    "    else:\n",
    "        progress = IntProgress(min=0, max=size, value=0)\n",
    "    label = HTML()\n",
    "    box = VBox(children=[label, progress])\n",
    "    display(box)\n",
    "\n",
    "    index = 0\n",
    "    try:\n",
    "        for index, record in enumerate(sequence, 1):\n",
    "            if index == 1 or index % every == 0:\n",
    "                if is_iterator:\n",
    "                    label.value = '{name}: {index} / ?'.format(\n",
    "                        name=name,\n",
    "                        index=index\n",
    "                    )\n",
    "                else:\n",
    "                    progress.value = index\n",
    "                    label.value = u'{name}: {index} / {size}'.format(\n",
    "                        name=name,\n",
    "                        index=index,\n",
    "                        size=size\n",
    "                    )\n",
    "            yield record\n",
    "    except:\n",
    "        progress.bar_style = 'danger'\n",
    "        raise\n",
    "    else:\n",
    "        progress.bar_style = 'success'\n",
    "        progress.value = index\n",
    "        label.value = \"{name}: {index}\".format(\n",
    "            name=name,\n",
    "            index=str(index or '?')\n",
    "        )\n",
    "\n",
    "#below is a function for finding the curse words       \n",
    "def check_content_profanity(contents):\n",
    "    print(' Checking for Curse words , Please wait....\\n')\n",
    "    flag=0\n",
    "    count=0\n",
    "    for x in log_progress(contents,every=1):\n",
    "        output = requests.get('http://www.wdylike.appspot.com/?q='+x).text\n",
    "        #connection = urllib.request.urlopen('http://www.wdylike.appspot.com/?q='+x)\n",
    "        #output=connection.read()\n",
    "        #print(x+'  '+output)\n",
    "        if(output=='true'):\n",
    "            lis.append(x)\n",
    "            count+=1\n",
    "            print(x+\"\\n is a curse word \")\n",
    "            flag=1\n",
    "    if(flag==1):\n",
    "            print('\\n The document has ' + str(count) +' curse words and must be reconsidered for content ')\n",
    "    else:\n",
    "        print('\\n The document has no curse words and is safe for usage ')  \n",
    "    #connection.close()\n",
    "    \n",
    "check_content_profanity(frequency_list.keys())\n",
    "\n"
   ]
  },
  {
   "cell_type": "markdown",
   "metadata": {},
   "source": [
    "**_STEP   3   - Finding meaning and synonyms of the identified curse words  _**`"
   ]
  },
  {
   "cell_type": "code",
   "execution_count": 4,
   "metadata": {},
   "outputs": [
    {
     "name": "stdout",
     "output_type": "stream",
     "text": [
      "\n",
      "PASSING MEANS \n",
      "(American football) a play that involves one player throwing the ball to a teammate\n",
      "\n",
      "SYNONYMS of PASSING are \n",
      "\n",
      "{'fall', 'kick_the_bucket', 'ephemeral', 'blow_over', 'give-up_the_ghost', 'go_across', 'reach', 'turn_over', 'go_on', 'transcend', 'drop_dead', 'authorise', 'lead', 'fall_out', 'exceed', 'perish', 'qualifying', 'pass_off', 'pass', 'authorize', 'release', 'go', 'make_pass', 'overtake', 'return', 'passing_play', 'draw', 'clear', 'pass_along', 'passing', 'short-lived', 'evanesce', 'expiration', 'go_along', 'passing_game', 'casual', 'overstep', 'loss', 'sink', 'give', 'overhaul', 'come_about', 'snuff_it', 'legislate', 'go_by', 'pop_off', 'communicate', 'perfunctory', 'slip_by', 'fleet', 'put_across', 'cursory', 'run', 'guide', 'fade', 'make_it', 'go_past', 'travel_by', 'buy_the_farm', 'lapse', 'going', 'egest', 'occur', 'expire', 'super', 'exit', 'surpass', 'eliminate', 'transitory', 'take_place', 'top', \"cash_in_one's_chips\", 'passage', 'happen', 'croak', 'go_through', 'pass_away', 'exceedingly', 'hand', 'elapse', 'overtaking', 'choke', 'decease', 'extend', 'extremely', 'pass_by', 'excrete', 'slip_away', 'spend', 'devolve', 'slide_by', 'hap', 'departure', 'fugacious', 'transient', 'die', 'conk', 'glide_by', 'pass_on'}\n",
      "\n",
      "Assistant MEANS \n",
      "a person who contributes to the fulfillment of a need or furtherance of an effort or purpose\n",
      "\n",
      "SYNONYMS of Assistant are \n",
      "\n",
      "{'help', 'supporter', 'helper', 'adjunct', 'assistant'}\n"
     ]
    }
   ],
   "source": [
    "from nltk.corpus import wordnet\n",
    "  \n",
    "def find_synonym(x):\n",
    "    synonyms = []\n",
    "    for syn in wordnet.synsets(x):\n",
    "        for lemma in syn.lemmas():\n",
    "            synonyms.append(lemma.name())\n",
    "    return (set(synonyms))\n",
    "\n",
    "for x in lis:   \n",
    "    syn = wordnet.synsets(x)\n",
    "    print('\\n'+x+' MEANS \\n'+syn[0].definition()+'\\n')\n",
    "    print('SYNONYMS of '+x+' are \\n')\n",
    "    print(find_synonym(x))"
   ]
  },
  {
   "cell_type": "markdown",
   "metadata": {},
   "source": [
    "**_STEP   4   - Finding suggestions to replace the identified curse words  _**`"
   ]
  },
  {
   "cell_type": "code",
   "execution_count": 5,
   "metadata": {},
   "outputs": [
    {
     "name": "stdout",
     "output_type": "stream",
     "text": [
      "\n",
      " SUGGESTIONS TO REPLACE PASSING are ...\n",
      "\n"
     ]
    },
    {
     "data": {
      "application/vnd.jupyter.widget-view+json": {
       "model_id": "03ba4298216e4c13ab5f32db9d07d2c6",
       "version_major": 2,
       "version_minor": 0
      },
      "text/html": [
       "<p>Failed to display Jupyter Widget of type <code>VBox</code>.</p>\n",
       "<p>\n",
       "  If you're reading this message in the Jupyter Notebook or JupyterLab Notebook, it may mean\n",
       "  that the widgets JavaScript is still loading. If this message persists, it\n",
       "  likely means that the widgets JavaScript library is either not installed or\n",
       "  not enabled. See the <a href=\"https://ipywidgets.readthedocs.io/en/stable/user_install.html\">Jupyter\n",
       "  Widgets Documentation</a> for setup instructions.\n",
       "</p>\n",
       "<p>\n",
       "  If you're reading this message in another frontend (for example, a static\n",
       "  rendering on GitHub or <a href=\"https://nbviewer.jupyter.org/\">NBViewer</a>),\n",
       "  it may mean that your frontend doesn't currently support widgets.\n",
       "</p>\n"
      ],
      "text/plain": [
       "VBox(children=(HTML(value=''), IntProgress(value=0, max=99)))"
      ]
     },
     "metadata": {},
     "output_type": "display_data"
    },
    {
     "name": "stdout",
     "output_type": "stream",
     "text": [
      "['fall', 'kick_the_bucket', 'ephemeral', 'blow_over', 'give-up_the_ghost', 'go_across', 'reach', 'turn_over', 'go_on', 'transcend', 'drop_dead', 'authorise', 'lead', 'fall_out', 'exceed', 'perish', 'qualifying', 'authorize', 'release', 'go', 'overtake', 'return', 'draw', 'clear', 'short-lived', 'evanesce', 'expiration', 'go_along', 'casual', 'overstep', 'loss', 'sink', 'give', 'overhaul', 'come_about', 'snuff_it', 'legislate', 'go_by', 'pop_off', 'communicate', 'perfunctory', 'slip_by', 'fleet', 'put_across', 'cursory', 'run', 'guide', 'fade', 'make_it', 'go_past', 'travel_by', 'buy_the_farm', 'lapse', 'going', 'egest', 'occur', 'expire', 'super', 'exit', 'eliminate', 'transitory', 'take_place', 'top', \"cash_in_one's_chips\", 'happen', 'croak', 'go_through', 'exceedingly', 'hand', 'elapse', 'overtaking', 'choke', 'decease', 'extend', 'extremely', 'excrete', 'slip_away', 'spend', 'devolve', 'slide_by', 'hap', 'departure', 'fugacious', 'transient', 'die', 'conk', 'glide_by']\n",
      "\n",
      " SUGGESTIONS TO REPLACE Assistant are ...\n",
      "\n"
     ]
    },
    {
     "data": {
      "application/vnd.jupyter.widget-view+json": {
       "model_id": "fb0b253c264f4965a4320ceeb3879c08",
       "version_major": 2,
       "version_minor": 0
      },
      "text/html": [
       "<p>Failed to display Jupyter Widget of type <code>VBox</code>.</p>\n",
       "<p>\n",
       "  If you're reading this message in the Jupyter Notebook or JupyterLab Notebook, it may mean\n",
       "  that the widgets JavaScript is still loading. If this message persists, it\n",
       "  likely means that the widgets JavaScript library is either not installed or\n",
       "  not enabled. See the <a href=\"https://ipywidgets.readthedocs.io/en/stable/user_install.html\">Jupyter\n",
       "  Widgets Documentation</a> for setup instructions.\n",
       "</p>\n",
       "<p>\n",
       "  If you're reading this message in another frontend (for example, a static\n",
       "  rendering on GitHub or <a href=\"https://nbviewer.jupyter.org/\">NBViewer</a>),\n",
       "  it may mean that your frontend doesn't currently support widgets.\n",
       "</p>\n"
      ],
      "text/plain": [
       "VBox(children=(HTML(value=''), IntProgress(value=0, max=5)))"
      ]
     },
     "metadata": {},
     "output_type": "display_data"
    },
    {
     "name": "stdout",
     "output_type": "stream",
     "text": [
      "['help', 'supporter', 'helper', 'adjunct']\n"
     ]
    }
   ],
   "source": [
    "import urllib.request\n",
    "def suggestion(words):\n",
    "    lis1=[]\n",
    "    #print(' Checking for Suggestions , Please wait....\\n')\n",
    "    for x in log_progress(words,every=1):\n",
    "        connection = urllib.request.urlopen('http://www.wdylike.appspot.com/?q='+x)\n",
    "        output=connection.read()\n",
    "        if(output==b'false'):\n",
    "            lis1.append(x)\n",
    "    connection.close()\n",
    "    print(lis1)\n",
    "    \n",
    "    \n",
    "for x in lis:   \n",
    "    print('\\n SUGGESTIONS TO REPLACE '+x+' are ...\\n')\n",
    "    y=find_synonym(x)\n",
    "    suggestion(y)"
   ]
  },
  {
   "cell_type": "markdown",
   "metadata": {},
   "source": [
    "# ........................................................................................................................"
   ]
  },
  {
   "cell_type": "markdown",
   "metadata": {},
   "source": [
    "# Restarting kernel after end of module"
   ]
  },
  {
   "cell_type": "code",
   "execution_count": null,
   "metadata": {},
   "outputs": [
    {
     "data": {
      "text/html": [
       "<script>Jupyter.notebook.kernel.restart()</script>"
      ],
      "text/plain": [
       "<IPython.core.display.HTML object>"
      ]
     },
     "execution_count": 6,
     "metadata": {},
     "output_type": "execute_result"
    }
   ],
   "source": [
    "from IPython.core.display import HTML\n",
    "HTML(\"<script>Jupyter.notebook.kernel.restart()</script>\")"
   ]
  },
  {
   "cell_type": "markdown",
   "metadata": {},
   "source": [
    "# 2) Module : pdf merger"
   ]
  },
  {
   "cell_type": "markdown",
   "metadata": {},
   "source": [
    "## _Description : Selecting multiple pdf files with dialog and merging selected files into a                                     single pdf named      \"combined_result.pdf\"_"
   ]
  },
  {
   "cell_type": "markdown",
   "metadata": {},
   "source": [
    "## _Usage : for example - can be used to merge all exam papers and specific study material                        into a  single common pdf"
   ]
  },
  {
   "cell_type": "markdown",
   "metadata": {
    "collapsed": true
   },
   "source": [
    "**_STEP  1     - defining tkinter open dialog for multiple selection and show selected files as a list_**"
   ]
  },
  {
   "cell_type": "code",
   "execution_count": 2,
   "metadata": {},
   "outputs": [],
   "source": [
    "import tkinter\n",
    "from tkinter import *\n",
    "from tkinter.filedialog import askopenfilename\n",
    "from tkinter.messagebox import showerror\n",
    "\n",
    "class MyFrame(Frame):\n",
    "    def __init__(self):\n",
    "        Frame.__init__(self)\n",
    "        self.master.title(\"PDF MERGER\")\n",
    "        self.master.rowconfigure(5, weight=1)\n",
    "        self.master.columnconfigure(5, weight=1)\n",
    "        self.grid(sticky=W+E+N+S)\n",
    "\n",
    "        self.button = Button(self, text=\"Choose previous year pdf papers\", command=self.load_file, width=100)\n",
    "        self.button.grid(row=1, column=0, sticky=W)\n",
    "\n",
    "    def load_file(self):\n",
    "        fname = tkinter.filedialog.askopenfilenames(filetypes=((\"Pdf files\", \"*.pdf\")\n",
    "                                           #,(\"HTML files\", \"*.html;*.htm\"),\n",
    "                                           ,(\"All files\", \"*.*\") ))#used for multiple files selection\n",
    "        root=tkinter.Tk()\n",
    "        files=root.tk.splitlist(fname)\n",
    "        pdf=list(files)\n",
    "        \n",
    "        if fname:\n",
    "            try:\n",
    "                print(\"Success\")\n",
    "            except:                     # <- naked except is a bad idea\n",
    "                showerror(\"Open Source File\", \"Failed to read file\\n'%s'\" % fname)\n",
    "            return pdf"
   ]
  },
  {
   "cell_type": "markdown",
   "metadata": {},
   "source": [
    "**_STEP-2   CALLING tkinter open dialog and GETTING list from the class defined in the variable a , printing the files selected with their path , and also printing length of list i.e no. of files selected_**"
   ]
  },
  {
   "cell_type": "code",
   "execution_count": 3,
   "metadata": {},
   "outputs": [
    {
     "name": "stdout",
     "output_type": "stream",
     "text": [
      "Success\n",
      "['/home/arjun/13_april/3 march pic_paper/8th sem b.tech/NCS-080  Pattern Recognition/btech-cs-7-sem-pattern-recognition-ecs-074-2016.pdf', '/home/arjun/13_april/3 march pic_paper/8th sem b.tech/NCS-080  Pattern Recognition/btech-cs-8-sem-pattern-recognition-ncs-080-2017.pdf', '/home/arjun/13_april/3 march pic_paper/8th sem b.tech/NCS-080  Pattern Recognition/btech-it-7-sem-pattern-recognition-ecs-074-2016.pdf', '/home/arjun/13_april/3 march pic_paper/8th sem b.tech/NCS-080  Pattern Recognition/ecs-074 pattern recognition 2011-12.pdf', '/home/arjun/13_april/3 march pic_paper/8th sem b.tech/NCS-080  Pattern Recognition/ecs-074 pattern recognition 2012-13.pdf', '/home/arjun/13_april/3 march pic_paper/8th sem b.tech/NCS-080  Pattern Recognition/ecs-074 pattern recognition 2013-14.pdf', '/home/arjun/13_april/3 march pic_paper/8th sem b.tech/NCS-080  Pattern Recognition/ecs-074 pattern recognition 2014-15.pdf', '/home/arjun/13_april/3 march pic_paper/8th sem b.tech/NCS-080  Pattern Recognition/ecs074 pattern recognition 2015-16.pdf']\n",
      "8\n"
     ]
    }
   ],
   "source": [
    "a=MyFrame().load_file()\n",
    "print(a)\n",
    "print(len(a))\n"
   ]
  },
  {
   "cell_type": "markdown",
   "metadata": {},
   "source": [
    "**_STEP-3       LIST containing path of files selected stored in a variable b to access later on_**"
   ]
  },
  {
   "cell_type": "code",
   "execution_count": 4,
   "metadata": {},
   "outputs": [
    {
     "name": "stdout",
     "output_type": "stream",
     "text": [
      "<class 'list'>\n"
     ]
    }
   ],
   "source": [
    "b=a\n",
    "print(type(b))"
   ]
  },
  {
   "cell_type": "markdown",
   "metadata": {},
   "source": [
    "**_STEP-4   MERGING OF PDF and saving pdf in location of current notebook_**"
   ]
  },
  {
   "cell_type": "code",
   "execution_count": 5,
   "metadata": {},
   "outputs": [],
   "source": [
    "from PyPDF2 import PdfFileMerger, PdfFileReader\n",
    "merger = PdfFileMerger()\n",
    "for filename in b:\n",
    "    merger.append(PdfFileReader(filename, 'rb'))\n",
    "\n",
    "merger.write(\"combined_result.pdf\")\n"
   ]
  },
  {
   "cell_type": "markdown",
   "metadata": {},
   "source": [
    "# ........................................................................................................................"
   ]
  },
  {
   "cell_type": "markdown",
   "metadata": {},
   "source": [
    "# Restarting kernel after end of module"
   ]
  },
  {
   "cell_type": "code",
   "execution_count": null,
   "metadata": {},
   "outputs": [
    {
     "data": {
      "text/html": [
       "<script>Jupyter.notebook.kernel.restart()</script>"
      ],
      "text/plain": [
       "<IPython.core.display.HTML object>"
      ]
     },
     "execution_count": 6,
     "metadata": {},
     "output_type": "execute_result"
    }
   ],
   "source": [
    "from IPython.core.display import HTML\n",
    "HTML(\"<script>Jupyter.notebook.kernel.restart()</script>\")"
   ]
  },
  {
   "cell_type": "markdown",
   "metadata": {},
   "source": [
    "# 3) Module : pdf to text converter"
   ]
  },
  {
   "cell_type": "markdown",
   "metadata": {},
   "source": [
    "## _Description : Selecting  pdf file with dialog and converting it to equivalent text file"
   ]
  },
  {
   "cell_type": "markdown",
   "metadata": {},
   "source": [
    "## _Usage :The text file created Can be used to perform easy data analysis on the desired                         pdf file"
   ]
  },
  {
   "cell_type": "markdown",
   "metadata": {},
   "source": [
    "**_STEP  1     - using tkinter open dialog for selecting pdf which is to be converted to text _**"
   ]
  },
  {
   "cell_type": "code",
   "execution_count": 1,
   "metadata": {},
   "outputs": [
    {
     "name": "stdout",
     "output_type": "stream",
     "text": [
      "Success\n",
      "/home/arjun/13_april/pdf_modules/combined_result.pdf\n"
     ]
    }
   ],
   "source": [
    "import tkinter\n",
    "from tkinter import *\n",
    "from tkinter.filedialog import askopenfilename\n",
    "from tkinter.messagebox import showerror\n",
    "\n",
    "class MyFrame(Frame):\n",
    "    def __init__(self):\n",
    "        Frame.__init__(self)\n",
    "        self.master.title(\"PDF ANALYSIS FOR CURSE WORDS\")\n",
    "        self.master.rowconfigure(5, weight=1)\n",
    "        self.master.columnconfigure(5, weight=1)\n",
    "        self.grid(sticky=W+E+N+S)\n",
    "\n",
    "        self.button = Button(self, text=\"Choose  your pdf \", command=self.load_file, width=100)\n",
    "        self.button.grid(row=1, column=0, sticky=W)\n",
    "\n",
    "    def load_file(self):\n",
    "        fname = tkinter.filedialog.askopenfilename(filetypes=((\"Pdf files\", \"*.pdf\") \n",
    "                                          # ,(\"HTML files\", \"*.html;*.htm\"),\n",
    "                                           ,(\"All files\", \"*.*\") ))#used for multiple files selection\n",
    "        \n",
    "        \n",
    "        if fname:\n",
    "            try:\n",
    "                print(\"Success\")\n",
    "            except:                     # <- naked except is a bad idea\n",
    "                showerror(\"Open Source File\", \"Failed to read file\\n'%s'\" % fname)\n",
    "            return fname\n",
    "        \n",
    "a=MyFrame().load_file()\n",
    "print(a)"
   ]
  },
  {
   "cell_type": "markdown",
   "metadata": {},
   "source": [
    "**_STEP  2     - converting selected pdf file to text file and saving it in location of current notebook with name                   \"pdf_to_text.txt\" _**"
   ]
  },
  {
   "cell_type": "code",
   "execution_count": 2,
   "metadata": {},
   "outputs": [
    {
     "name": "stdout",
     "output_type": "stream",
     "text": [
      "range(0, 32)\n",
      "\\7Printed Pages: 3{Following Paper ID and Roll }tlo. to he filtred in yourAmswer Booli)Roll No.B.Tech.(sEM. VItr) THEORY' EXAMThTATION, 2t}15-1 6PATTERITRECOGiTTfiON[Time:3 hoursJ[MaximumMarks:100Section*AQ. I Attexnpt all parts. AII parts •arry equal marks. WriteanslYer of each part in short.{2\" 1 0:20)(a) Srrite the differ:snce between classification andclustering.(b) It-A, B, C are three mutual exclusive and exhaustiveevents and P{B)_-Il3 P{A), P(tl)-112 P{A), findP(A), P(B) andP(C).(1)ECS-074ECS-074www.aktuonline.comwww.aktuonline.comwww.aktuonline.com\n",
      "TiHfxn*i MI(c) liryo cards are clrar,vn ficrn a full packet of 52 cards,the first card being returned to the packet befarethe seconcl is drawn. trrind the probability that these'trvo cards are of the safile suit.(d) What is the difference hetrryeen pararnetic and rlonparffn etric pattreffi recogintion m ethods?(e) \\fuhat is the prohability of obtaining 9, 10, end 1 1points r,vith 3 dice?(0 l{ow do we evaluate the performance o{ aclassifier? ,(S) What do you mean hy'fuzry decision making?AlsorJiscuss the fuzzy classificaton using suitableexirmplc\"(h) V/rite difference between lear:ning and aclaption?(i) I)iscuss mean and covariance with an exalnple.fi ) Name the ditTernt methods of non*parameter.estimation strategies. What are the maindifferenc es between thern ?Section-BNote: Attempt amJ[ fis-e questions frorn this section\"www.aktuonline.comwww.aktuonline.comwww.aktuonline.com\n",
      ",WItlx5:50Q2. What is a discriminarnt function? discuss it in detdil. In atwo ctrass problern, the likelihood rtic is given asfo llor,rrs : p(#C 1 )p(v C?). \\lrrite the di s crim inant functionin terms of'the likelihood tatio.Q3. What do ]*ou mean by fuzzy decision making? Alsodiscuss the firzry classification using suitable exarnple .Q4. Prove that the mean and the standard cleviation ot thebinorniai distribution arenp enct ![ npq re$peotively.Q5. In an experiment on the immunization of goats from adisease, the {ollowirrg results were ohtained:Ca lcu latedDied or disease Survived210Tota I12with vaccineNotinocu lated12TotalI1524(3)P.T.O.www.aktuonline.comwww.aktuonline.comwww.aktuonline.com\n",
      "WQ6. What is dimension reduction? Discuss PrincipalComponent Anal,vsis (PCA) algi:rithm for climensionreducticln.Q7. Estirnate a density function using a symmetric triangularkernel with a base width of 2. gir,'en that your samplesare at2,3,3, ffid 4. Explain w'ith diagram.Q8, Wor,v the k-nearest neighbor rnethod works? Explain withKNN estimation and KNI{ rule.Q9. Explain the concept of expectation maxim ization n,iththe help of an algorithm.Section-Cf{ote: Attenilpt any fruo questions from this section.(15x2:30)Q10.(a) What is Hidden h'Iarkov Model (HMM)? ExplainfollowinginHMM(i) Forward algorithm(4) ECS-074www.aktuonline.comwww.aktuonline.comwww.aktuonline.com\n",
      "r,g+irrr+e{! tW( ii) Bitckrvarcl algoritirn(b) \\Vhat is norrnal distribution'i Explain.e 1 1 .Explain sLull 01' squareri error criterion and relatednrinilrum valiance criteria tol cluster:ing? Discuss rvhat1<incl of oltrstering problorns are stritect to sttm-ofisquaredct\"iterittn.Q 1?. \\\\rri1e slrort nofes on:Ltt) tlhi-sqr-rare testb) I{-rleatts partitior-r algot'ithnrc) Cltrstering('5 )www.aktuonline.comwww.aktuonline.comwww.aktuonline.com\n",
      ", ; Printed Pages : 2Roll No.NCS080B.TECH.THEORY EXAMTNATTON (SEI\\,r-Vr[ ) 2016-17PATTERN RECOGMTIONTime:3 Hourc Max. Marks: 1A0Note : Be precise inyour answer. In case of nwnerical problem assume datawherever not provided.SECTION - A1. Explain the following: 10 x 2 = ?,ff(a) DifferentiateClassificationwithClustering,(b) What do you mean by pattem recognition? Explain.(e) What is Learning? Discuss Supervised & Un Supervised karning.(d) DiscussReinforcementLearning(e) What is Back Propagation Algorithm?(f) Discuss Normal Density Function.(g) Discuss Cluster Validation.(h) What is Conditional Probability?(i) Discuss various Pattern Recognition Approaches.(i) DiscussAgglomerativeClustering.SECTION - B2, Attempt any five parts of the following questions: 5 x l0 = 50(a) Discuss the Design Process of the Pattern Recognition System wittl suitable blockdiagram.(b) What is Bay's Theorem? Explain. Also discuss Bay's Classifier using some example indetail.(c) What do you mean by Clustering? Explain. Discuss K-means clustering algorithm withsuitable example.(d) What is a Discriminant Function? In a two class problem, the likelihood ratio is givenas follows: P (XlCr) / P (XlCr. Write the discriminant function in terms of thelikelihood ratio.(e) What do you mean by Dimension Reduction? Discuss Principal Component Analysis(PCA) algorithm for dimension reduction.(f) What do you mean by Fuzzy Decision making? Also discuss the Fuzzy Classification *using suitable example.(g) Write an algorithm for K-Nearest Neighbor Estimation. Explain.(h) Explain the following and discuss their significance in Pattern Recognition with &suitable example :(i) Mean and Covariance(ii) Chi Square Test.Attempt any two parts of the t\"rri,fl\"rr1l,llt;* z 2x 15 = 303 What is Baysian Decision Theory? Discuss Two Class Category Classification in detail.4 What is Hidden Markov Model (HMM)? Explain following in HMM:(i) Forward Algorithm(ii). Backward Algorithm.www.aktuonline.comwww.aktuonline.comwww.aktuonline.com\n",
      "5 Write a short note on thb following;(i) Parametric vs. Non-parametric pattern Recognition methods.(ii) ParuenWindows(iii) Bayesianestimationwww.aktuonline.comwww.aktuonline.comwww.aktuonline.com\n",
      "\\7Printed Pages: 3{Following Paper ID and Roll }tlo. to he filtred in yourAmswer Booli)Roll No.B.Tech.(sEM. VItr) THEORY' EXAMThTATION, 2t}15-1 6PATTERITRECOGiTTfiON[Time:3 hoursJ[MaximumMarks:100Section*AQ. I Attexnpt all parts. AII parts •arry equal marks. WriteanslYer of each part in short.{2\" 1 0:20)(a) Srrite the differ:snce between classification andclustering.(b) It-A, B, C are three mutual exclusive and exhaustiveevents and P{B)_-Il3 P{A), P(tl)-112 P{A), findP(A), P(B) andP(C).(1)ECS-074ECS-074www.aktuonline.comwww.aktuonline.comwww.aktuonline.com\n",
      "TiHfxn*i MI(c) liryo cards are clrar,vn ficrn a full packet of 52 cards,the first card being returned to the packet befarethe seconcl is drawn. trrind the probability that these'trvo cards are of the safile suit.(d) What is the difference hetrryeen pararnetic and rlonparffn etric pattreffi recogintion m ethods?(e) \\fuhat is the prohability of obtaining 9, 10, end 1 1points r,vith 3 dice?(0 l{ow do we evaluate the performance o{ aclassifier? ,(S) What do you mean hy'fuzry decision making?AlsorJiscuss the fuzzy classificaton using suitableexirmplc\"(h) V/rite difference between lear:ning and aclaption?(i) I)iscuss mean and covariance with an exalnple.fi ) Name the ditTernt methods of non*parameter.estimation strategies. What are the maindifferenc es between thern ?Section-BNote: Attempt amJ[ fis-e questions frorn this section\"www.aktuonline.comwww.aktuonline.comwww.aktuonline.com\n",
      ",WItlx5:50Q2. What is a discriminarnt function? discuss it in detdil. In atwo ctrass problern, the likelihood rtic is given asfo llor,rrs : p(#C 1 )p(v C?). \\lrrite the di s crim inant functionin terms of'the likelihood tatio.Q3. What do ]*ou mean by fuzzy decision making? Alsodiscuss the firzry classification using suitable exarnple .Q4. Prove that the mean and the standard cleviation ot thebinorniai distribution arenp enct ![ npq re$peotively.Q5. In an experiment on the immunization of goats from adisease, the {ollowirrg results were ohtained:Ca lcu latedDied or disease Survived210Tota I12with vaccineNotinocu lated12TotalI1524(3)P.T.O.www.aktuonline.comwww.aktuonline.comwww.aktuonline.com\n",
      "WQ6. What is dimension reduction? Discuss PrincipalComponent Anal,vsis (PCA) algi:rithm for climensionreducticln.Q7. Estirnate a density function using a symmetric triangularkernel with a base width of 2. gir,'en that your samplesare at2,3,3, ffid 4. Explain w'ith diagram.Q8, Wor,v the k-nearest neighbor rnethod works? Explain withKNN estimation and KNI{ rule.Q9. Explain the concept of expectation maxim ization n,iththe help of an algorithm.Section-Cf{ote: Attenilpt any fruo questions from this section.(15x2:30)Q10.(a) What is Hidden h'Iarkov Model (HMM)? ExplainfollowinginHMM(i) Forward algorithm(4) ECS-074www.aktuonline.comwww.aktuonline.comwww.aktuonline.com\n",
      "r,g+irrr+e{! tW( ii) Bitckrvarcl algoritirn(b) \\Vhat is norrnal distribution'i Explain.e 1 1 .Explain sLull 01' squareri error criterion and relatednrinilrum valiance criteria tol cluster:ing? Discuss rvhat1<incl of oltrstering problorns are stritect to sttm-ofisquaredct\"iterittn.Q 1?. \\\\rri1e slrort nofes on:Ltt) tlhi-sqr-rare testb) I{-rleatts partitior-r algot'ithnrc) Cltrstering('5 )www.aktuonline.comwww.aktuonline.comwww.aktuonline.com\n",
      "Printed Pages-3Time : 3 HoursNote :- (i) Attempt all questions.1.ECSO74Tbtal Marlcs : 100B.Tech.(sEM. VX) THEORY EXAMTNATTON 201 1_r2PATTERN RECOGNITION(iD Make suitable assumption ifrequired.Attempt any two parts : (10x2:20)(a) What do you mean by pattern recognition ? Explain.Describe design principles of pattern recognition systemwith an example.(b) (D What do you mean by learning and adaptation ?L,xplaln.(ii) Write short note on pattern recognition approaches.(c) Explain the following and discuss their significance inpattern recognition with suitable example :(D Mean and Covariance(i, Chi Square Test.ECSoT4|KIH-26642[Turn Over(Following Paper ID and Roll No. to be filled in your Answer Bookhttp://www.UPTUonline.comuptuonline.comuptuonline.comuptuonline.com\n"
     ]
    },
    {
     "name": "stdout",
     "output_type": "stream",
     "text": [
      "2. Attempt any two parts : (10x2:20)(a) What is Bay's Theorem ? Explain. Also discuss Bay'sClassifier using some example in detail.(b) What is a discriminant function ? Discuss it in detail. In atwo class problem, the likelihood ratio is given as follows :p(xlC,) / p(xlC,)Write the discriminant function in terms of the likelihoodratio.(c) Describe the following with suitable example :(D NormalDensityFunction(iD UtilityTheory.3. Attempt any two parts : (10x2=20)(a) What do you mean by dimension reduction ? DiscussPrincipal Component Analysis (PCA) algorithm fordimension reduction.(b) Write short notes on the following :(D Maximum-Likelihoodestimation.(il) Expectation-maximization(c) Write a short note on Hidden Markov Model (HMM).4. Attempt any two parts : (10x2:20)(a) What do you meanby fuzzy decision making ? Also discussthe fuzzy classifi cation using suitable example.(b) Write an algorithm for K-Nearest neighbor estimation.Explain.ECS0T4tKlH-26642http://www.UPTUonline.comuptuonline.comuptuonline.comuptuonline.com\n",
      "(c) Write a short note on the following :(i) Parametric vs. non-parpmetric pattern recognitionmethods.(ir) Parzen windows.5. Write short notes on two ofthe following : (10x2=20). (a) What do you mean by supervised leaming and unsupervised\\ learning ? Explain. Discuss any unsupervised learningalgorithm with some example.(b) What do you mean by clustering ? Explain. Discuss K-means clustering algorithm with suitable example.(c) Write short notes on the following :(D Clusteringvs.classification(iD Clustervalidation.ECS0T4tKtH-2664224625http://www.UPTUonline.comuptuonline.comuptuonline.comuptuonline.com\n",
      "Printed Pages-4ECS074B.Tech.(SEM. VID ODD SEMESTERT}IEORYEXAMINATION 2012-13PATTER-N RECOGNITIONTime : 3 Hours Total Marlc : 100Note :- Attempt aII questions.l. Attempt any four ofthe following:(4x5:20)(a) What do you mean by leaming and adaption ? Explain.(b) Explain Chi-Square test and discuss their significance inpattern recognition with suitable example.Explain the following with example :(D Pattern(i1) Classification(iir) Pattern recognition.Explain design principles ofpattern recognition system withan example.What is normal distribution ? Explain.Consider a two-class problem where the classes are labelledpen drive and laptop. Suggest a set offeatures that couldbe used to discriminate between these two classes ofobjects. What is the corresponding vector-spacerepresentation ?ECSo74/DUr-44136ITurnOver(c)(d)(e)(0ollowing Paper ID and Roll No. to be filled in yourAnswer Bookhttp://www.UPTUonline.comuptuonline.comuptuonline.comuptuonline.com\n",
      "2. Attempt any four ofthe following :(4x5=20)(a) Explain the following:(i) Bayes theorem(it) LawofTotal Probability.(b) Let blue, green and red be three classes of objects withprior probabilities given by P(blue) : 0.3, P(green) : 0.4,P(red) : 0.3. Let there be three types of objects : pencils,pens, and paper. Let the class-conditional probabilities ofthese objects be given as follows. Use Bayes classifier toclassiff pencil , pen and paper.P(pencillgreen) :0.3 P(penlgreen) :0.5 P(paperlgreen) =0.2P(pencillblue) :0.5 P(penlblue) :0.2 P(paperlblue) :0.3P(pencillred) :0.2 P(penlred) :0.3 P(paperlred) :0.5(c) Explain Naive Bayes classifier.(d) Assume your house has an alarm system against burglary.You live in the seismicaliy active area and the alarm systemcan get occasionally set offby an earthquake. You havetwo neighbours, Mary and John, who do not know eachother. If they hear the alarm they call the police. John alwayscalls when he hears the alarm, but sometimes confusesthetelephone ringingwiththe alarm. Mary does not alwayscall because Mary like loud music. Draw the beliefnetwork.(e) What is discriminant function ? Explain.ECS074/DLT-44136http://www.UPTUonline.comuptuonline.comuptuonline.comuptuonline.com\n",
      "(0 Consider a two-class (Tasty or non Tasty) problem withthe following training data. Use Naive Bayes classifiertoclassiff the pattern :\"Cook:Asha, Health-status : Bad, Cuisine : Continental\"CookHealth-StatusCuisineTastyAshaBadlndianYesAshaGoodContinentalYesSitaBadIndianNoSitaGoodIndianYesUshaBadIndianYesUshaBadContinentalNoSitaBadContinentalNoSitaGoodContinentalYesUshaGoodIndianYesUshaGoodContinentalNo3. Attempt any two of the following : (2x10=20)(a) Write short notes on the following :(i) Maximumlikelihoodestimation(ii) Bayesianestimation.(b) What is Hidden Markov Model (FIMM) ? Explain followingin HMM :(i) ForwardAlgorithm(iD BackwardAlgorithm.ECS074IDUI44L36 3 lTurnOverhttp://www.UPTUonline.comuptuonline.comuptuonline.comuptuonline.com\n",
      "(c) What is Principle ComponentAnalysis (PCA) ? Explain.Consider the two-dimensional patterns : (1, 1), (1,2),(4,4j, (5,4). Use the first principal component (PCA) totransform the pattern ( 1, 1). What is the vector obtained ifwe try to reproduce the original data?4. Attempt any two of the following : (2x10=20)(a) Explainthe following with example :(i) NearestNeighbourClassificationalgorithm(ir) k-Nearest Neighbour (kNN) classifi cation algorithm(iiD Modified k-Nearest Neighbour (mkNN)'classifi er'(b) What is Parzon Window ? ExPlain.(c) Explain the following with suitable examples :(r) Farametric pattern recognition methods and NonParametric pattern recognition methods.(ii) Fuzry decision making andfuzry classification'5. Attempt any two of the following : (2x10:20)(a) Write short notes on the following :(D Clusteringvsclassification(ir) Clustervalidation(iii) Criteria function for clustering.(b) Write K-means clustering algorithm. In which situation kmeans algorithm gives the globally optimal partition ?Illustrate K-means algorithm with the help of thethree-dimensional data set of 10 points given below :(1, 1, 1), (1,1,2),(1,3,2);(2,1,1), (6,3, 1),(6, 4, 7), (6, 6, 6), (6, 6, 7), (6, 7, 6), (7, 7, 7 ).(c) Discusshierarchical clustering.ECS074/DLT-4413619425http://www.UPTUonline.comuptuonline.comuptuonline.comuptuonline.com\n",
      "Following Paper ID and Roll No. to be filled in yourAnswerPrinted Pages-3ECSO74. B.Tech.(SEM. VII) ODD SEMESTER THEORYEXAMINATION 2013-14PATTERN RECOGNITION'Iime : 3 HoursTotal Marlcs : 100Note : (1) AttemptAllquestions.(2) Make suitable assumption if required.l. Attempt any TWO Parts :-(a) What is Pattern Recognition ? Explain the differencebetween statistical and structural approaches to patternrecognition.(b) (i) What is Pattern classification ? What are majorparadigms of Machine Learning ?(ii) Explain Learning and Adaptation. What are thecomponents of a learning system ?(c) (i) What do you mean by mean and covariance ?(ii) What are random variables ? Explain chi-square test.i2. Attempt any TWO parts :-(a) What is Bayes'theorem ? Explain. Also discuss Bayes'classifier using some example in detail.ECSOZIDNG-52080[Turn Overhttp://www.UPTUonline.comuptuonline.comuptuonline.comuptuonline.com\n",
      "r:-(b) (D Consider the Bayesian classifier for the uniformlydistributed classes, where :rl| , X•lat,azlr(>{,) : lu, ;u, , muullion,lI;-- , X•[br,bz]P(x/wr) = 10r; o, muullion\\,. Show the classification results for some values fora and b. (\"muullion\" means \"otherwise\").(ii) Consider the classifier, where the risk is taken intoaccount as follows :Lrr: Lrr= 1 ja ?r.rr: ?\"rr:2construct the classifiet (\"ia\" means \"and\").(c) ' What is discriminant function ? Discuss it in detail usinga formula of conditional risk ::l' nR 1o,l ,(): jI r(cti lwj) P(wj I x)derive the formula for the likelihood ratio.3. Attempt any TWO Parts :-(a) Write a short note on Hidden Markov Model (HMM).ECS074/pNG-s2080http://www.UPTUonline.comuptuonline.comuptuonline.comuptuonline.com\n",
      "(b) Write short notes on the following :-(i) Gaussian mixtuie models(iD Fisher linear discriminant analysis'(c) Show that in the likelihood estimation (ML) the samplemean is'equal to the rnean of samples' Consider thatS:Vi.4. Attempt anY TWO Parts :-(a)WriteanalgorithmforK-Nearestneighborestimation.Explain.(b)WhyuseFvqclasses?WhatistheFuzzyclassificationprocess ?(c) Write short notes on the following :-(i) Petzenwindows(iD DensitYEstimation.5. AttemPt anY TWO Parts :-(a) (i) Four samples are to be clustered into three clusters'Show all possible sets of clusters' How many setsthere are ?(ii) What do you mean by cluster validation ?(b) What do you mean by supervised learning andunsupervised learning ? Explain' Discuss anyunsupervised learning algorithm with some example'(c) Write short notes on the following :-(i) K-Means PartitionalAlgorithrn(ii) HierarchicalClustering'ECS074/pNG-s28E011000http://www.UPTUonline.comuptuonline.comuptuonline.comuptuonline.com\n",
      "Printed P4ges : 7I lllil lllfi lllilllllllllll llillllll llllEC$.074*11075t*(Foltowing Paper ID and RoIl No. to be filled in your Answer Book)Roll No.B. Tech.(sEM. VII) (ODD SEM.) TI#,ORYEXAMINATtrON, 2AI4-15PATTERN RECOGNITIONTime : 3 Hours]Note : Attempt all Questions[Total Marks : 1001 Attempt any four of the following : (4x5=20)a) ' Define Patterq feature, feature \\•ctor, feature space andfeature extraction.b) Consider a two-class problem, where the trainingpatterns are:Classl '. {2, 2), (.4, 3), and (5, l)Class2 : (1, 3), (5, 5), and (3, 6)Obtain the within class scatter matrix.1107541 \" I [Contd...http://www.UPTUonline.comuptuonline.comuptuonline.comuptuonline.com\n"
     ]
    },
    {
     "name": "stdout",
     "output_type": "stream",
     "text": [
      "c) What is statistical pattern recognition ? Explain.d) What is K-Near Neighbours classifier ?e) Consider the two class problem class 1 and class 2.Test pattern is P. Five Nearest Neighbours patterns totest pattern P is Xl, ){..Z, ){3, X4 and X5. Xl andX4 belong to Class I and X2, X3 and X5 belong toClass 2. Distances from p, d(Xl, p) : l,d(XT, P) : Z, d(X3, p) : 2.5, d(X4, p) : 4 andd(X5, P) : 5. Classify the test pattern p using modifiedk-Nearest Neighbour algorithm.0 What is learning and adaption ? ExplainAttempt any four of the following :(4x5=20)a) Explain Bayesian decision theory. Explain two categoryclassifications.b) tet blue, green, and red be three classes of objectswith prior probabilities given by p(blue) : ll4,P(green) : l/2, P(red) : l/4. Let there be three typesof objects : pencils, pens, and paper. Let theclass-conditional probabilities of these objects be1107s41I Contd...http://www.UPTUonline.comuptuonline.comuptuonline.comuptuonline.com\n",
      "l*-IP(penc,{llgreen): 1/3iP(penc.illblue): ll2t, .'P(pencillred): 1/6P(penlgreen) :I/2P(penlblue) =l/6P(penlred):1/3given as f,ollows. Use ,Bayes classifier to classi$pencil, pen, and paper.Explain Parametric and ]rlonrecognition methods.P(paperlgreen): 116P(paperlblue): 113P(paperlred) - 1/2parametric patterrtii:u'kaflr is a student. He loves going to the movies. Hewill go to the theatre in the evening if he has moneyin his pocket. On the other hand, if it rains, he willnot go the theatre. When ram does not go to the rnovieqhe stays home and watches the television. He also, dedicates some time to his studies. Draw the beliefnetwork for this situation.What is linear discriminant function ? Explain., Write.ghort note on \"Maximum likelihood estimation\",and ::Bpyesian estimation'l.c)d)e)Dj.i,ItA?541o+ ,;:r.;-+;+:_f:$L, . :i-- ,3I Contd.\".http://www.UPTUonline.comuptuonline.comuptuonline.comuptuonline.com\n",
      "Attempt any two of the following :(2x10=20)a) Consider the example glven in decision trees given inthe Table l. We have a nern pattern money - 90, has-exams=yes, and weather:fine.Use Naive Bayes classifier to classi$ this pattern aseither belonging to goes.to-movie:yes or goes-to-movie=no.Table l: Two class problem (Yes and No)Explain following i) Hidden Markov Model (I{I\\illd)ii) Fisher's Lirtear Discriminant?What do you mean liy dimension reduction? Discussprincipal component analysis (PCA) algorithm fordimension reduction.Let us consider two patterns of class l. The patternsare Q,,2) and (3,1). Let us consider two patterns ofclass 2. The patterns are (5,4) and (7,4). Obtain theII(},!'qsl\"t()ll!)Il+'v•sllrl:ftG.n()1.(rst-sb)c)sample covariance matrix.u07s4l 4I Contd...nc3;i1{ru+e[anl*r+'eatJrerl(X) I n.,1{l() j o,,1r5 i veuts0 I i,..=-3ti0 ! .:'*.-:;li , f.ertf\"tC, j nr:'2O ] r**lTIr i .*-**I lt) i nr:http://www.UPTUonline.comuptuonline.comuptuonline.comuptuonline.com\n",
      "Attempt any two of the following :(2xt9=26;a) Consider the two class problem shown in Figure 1.Thefe are fuur patterns in Class I marked as 'X, andthere are five patterns in Class 2 marked as ,*'. Thetest pattern is P. The closest points to p are Xl, X6,X7,X2 and X5. If the distances from p to Xl, X6,){7,XZ and X5 are 0.3, 1.0, Ll, 1.5 and tr.f. Classifr' the test pattern P using followingD Nearest Neighbour algorithmii) k-Nearest Neighbour (kNI{) algorithm with F5ur) Modified k-Nearest Neighbour (rnkT$ classifierx4><5 >< xxrxx.2Ftgure 1: Two class problemtxs.+-*c+ -.{- o**l' .+ xs1r075415I Contd...http://www.UPTUonline.comuptuonline.comuptuonline.comuptuonline.com\n",
      "Wtrat is Parzon window'? Explain. Derive the conditionsfor (r) com'ergence of mean (ii) convergbnce of variance'What is X2 test ? Write the significance of hypothesistesting in pattern recognition. Write the uses of X2 Test'The following table gives the nurnber of accidentthat occurs during the various days of the week'Finrd rvhether the accidents are uniforrnly distributedover the week.Gven: the values of chi square significance at 5,6,7degrees of freedom are respectively 11'07, 12'59,M.A7 * 5% level of significance.5 Attempt anY two of the following :(2x10=20)a) Differentiatebetweenclusteringandclassification. Explaincriteria firnction for clustering.rr0754lI Contd...c)http://www.UPTUonline.comuptuonline.comuptuonline.comuptuonline.com\n",
      "b)Write and orplainK-means cfustering algorithm IllustrateK-means algorithm with the herp ofthe threedimensionatdata set of 10 points.grven below :(1, l, 1), (1, l, 2), (1, 3, 2), (2, l, l), (6, 3, l),(6, 4, l), (6, 6, 6), (6, 6, 7), (6, 7, 6), (7, 7, 7)Consider the initial seeds to be (1, 1, l), (6, 3, l),(6, 6, 6).what is clustering? Explain. what are different clusteringtechniques? Why is clustering important? What is anagglomerative clustering algorithm? Explain.15300c)ttws4lhttp://www.UPTUonline.comuptuonline.comuptuonline.comuptuonline.com\n",
      "\n",
      "\n",
      "\n"
     ]
    }
   ],
   "source": [
    "import PyPDF2\n",
    "pdfFileObj = open(a,'rb')     #'rb' for read binary mode\n",
    "pdfReader = PyPDF2.PdfFileReader(pdfFileObj)\n",
    "total_pages=pdfReader.numPages\n",
    "f= open(\"pdf_to_text.txt\",\"w+\")\n",
    "print(range(total_pages))\n",
    "#pdfs=[]\n",
    "for i in range(total_pages):\n",
    "    pageObj = pdfReader.getPage(i)          #'9' is the page number\n",
    "    data=pageObj.extractText()\n",
    "    f.write(data)\n",
    "    print(data)\n",
    "    #print(pdfs[i])\n",
    "f.close() "
   ]
  },
  {
   "cell_type": "code",
   "execution_count": null,
   "metadata": {},
   "outputs": [
    {
     "data": {
      "text/html": [
       "<script>Jupyter.notebook.kernel.restart()</script>"
      ],
      "text/plain": [
       "<IPython.core.display.HTML object>"
      ]
     },
     "execution_count": 3,
     "metadata": {},
     "output_type": "execute_result"
    }
   ],
   "source": [
    "from IPython.core.display import HTML\n",
    "HTML(\"<script>Jupyter.notebook.kernel.restart()</script>\")"
   ]
  },
  {
   "cell_type": "markdown",
   "metadata": {},
   "source": [
    "# ........................................................................................................................"
   ]
  },
  {
   "cell_type": "code",
   "execution_count": null,
   "metadata": {},
   "outputs": [],
   "source": []
  }
 ],
 "metadata": {
  "kernelspec": {
   "display_name": "Python 3",
   "language": "python",
   "name": "python3"
  },
  "language_info": {
   "codemirror_mode": {
    "name": "ipython",
    "version": 3
   },
   "file_extension": ".py",
   "mimetype": "text/x-python",
   "name": "python",
   "nbconvert_exporter": "python",
   "pygments_lexer": "ipython3",
   "version": "3.6.4"
  }
 },
 "nbformat": 4,
 "nbformat_minor": 2
}
